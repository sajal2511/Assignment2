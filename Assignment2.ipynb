{
 "cells": [
  {
   "cell_type": "markdown",
   "id": "b8a7a8ea-c46a-4f8e-bfee-009f45f03cb3",
   "metadata": {},
   "source": [
    "# Q.1. What are the two values of the Boolean data type? How do you write them?"
   ]
  },
  {
   "cell_type": "markdown",
   "id": "e7fa665e-688c-4b61-aef9-26c6eea91480",
   "metadata": {},
   "source": [
    "Ans: True and False, using capital T and F, with the rest of the word in lowercase."
   ]
  },
  {
   "cell_type": "markdown",
   "id": "3c9c8b7e-bd74-4cc5-9875-5e365b8939e4",
   "metadata": {},
   "source": [
    "# Q.2. What are the three different types of Boolean operators?"
   ]
  },
  {
   "cell_type": "markdown",
   "id": "68865b56-7f55-4b34-9249-bbaf0868a600",
   "metadata": {},
   "source": [
    "Ans: and, or, and not"
   ]
  },
  {
   "cell_type": "markdown",
   "id": "b3d01af8-1681-4713-a5e8-df4ee2aa85c7",
   "metadata": {},
   "source": [
    "# Q.3. Make a list of each Boolean operator&#39;s truth tables (i.e. every possible combination of Boolean values for the operator and what it evaluate)"
   ]
  },
  {
   "cell_type": "markdown",
   "id": "c523439f-b84d-4fba-9884-9eb479bb3f6a",
   "metadata": {},
   "source": [
    "Ans:\n",
    "True and True is True.\n",
    "\n",
    "True and False is False.\n",
    "\n",
    "False and True is False.\n",
    "\n",
    "False and False is False.\n",
    "\n",
    "True or True is True.\n",
    "\n",
    "True or False is True.\n",
    "\n",
    "False or True is True.\n",
    "\n",
    "False or False is False.\n",
    "\n",
    "not True is False.\n",
    "\n",
    "not False is True."
   ]
  },
  {
   "cell_type": "markdown",
   "id": "a5cd5482-c5ba-455b-890f-2cc04ded4cca",
   "metadata": {
    "tags": []
   },
   "source": [
    "# Q.4. What are the values of the following expressions? (5 > 4) and (3 == 5), not (5 > 4), (5 > 4) or (3 == 5), not ((5 > 4) or (3 == 5)), (True and True) and (True == False), (not False) or (not True)."
   ]
  },
  {
   "cell_type": "markdown",
   "id": "ce5cfd12-3cfa-4117-8dfc-85a45237fd28",
   "metadata": {},
   "source": [
    "Ans:\n",
    "False,\n",
    "False,\n",
    "True,\n",
    "False,\n",
    "False,\n",
    "True."
   ]
  },
  {
   "cell_type": "markdown",
   "id": "76078014-ca63-439f-8096-0184b301accc",
   "metadata": {},
   "source": [
    "# Q.5. What are the six comparison operators?"
   ]
  },
  {
   "cell_type": "markdown",
   "id": "44b8d30a-4197-4eeb-9149-d310601629b8",
   "metadata": {},
   "source": [
    "Ans: ==, !=, <, >, <=, and >=."
   ]
  },
  {
   "cell_type": "markdown",
   "id": "73e2da1a-4c9f-4bd2-ba42-6facb8a24c9e",
   "metadata": {},
   "source": [
    "# Q.6. How do you tell the difference between the equal to and assignment operators?Describe a condition and when you would use one."
   ]
  },
  {
   "cell_type": "markdown",
   "id": "1f366082-7db5-430c-9b11-464397f9c25e",
   "metadata": {},
   "source": [
    "Ans: == is the equal to operator that compares two values and evaluates to a Boolean, while = is the assignment operator that stores a value in a variable."
   ]
  },
  {
   "cell_type": "markdown",
   "id": "8607417a-bd34-4b1b-bc3a-5090331a8c25",
   "metadata": {},
   "source": [
    "# Q.7. Identify the three blocks in this code:\n",
    "spam = 0\n",
    "if spam == 10:\n",
    "print(&#39;eggs&#39;)\n",
    "if spam &gt; 5:\n",
    "print(&#39;bacon&#39;)\n",
    "else:\n",
    "print(&#39;ham&#39;)\n",
    "print(&#39;spam&#39;)\n",
    "print(&#39;spam&#39;)"
   ]
  },
  {
   "cell_type": "markdown",
   "id": "6d4cc475-d1bd-47e1-94fa-4b47da0533d3",
   "metadata": {},
   "source": [
    "Ans: The three blocks are everything inside the if statement and the lines print('bacon') and print('ham')."
   ]
  },
  {
   "cell_type": "code",
   "execution_count": 21,
   "id": "906f51d0-075e-4b49-945d-6c6b96c71ef1",
   "metadata": {},
   "outputs": [
    {
     "name": "stdout",
     "output_type": "stream",
     "text": [
      "ham\n",
      "spam\n"
     ]
    }
   ],
   "source": [
    "spam = 0\n",
    "if spam == 10:\n",
    "    print('eggs')\n",
    "if spam > 5:\n",
    "    print('bacon')\n",
    "else:\n",
    "    print('ham')\n",
    "    print('spam')"
   ]
  },
  {
   "cell_type": "markdown",
   "id": "d7dc29eb-9756-450c-872b-913b0e759fd6",
   "metadata": {},
   "source": [
    "# Q.8. Write code that prints Hello if 1 is stored in spam, prints Howdy if 2 is stored in spam, and prints Greetings! if anything else is stored in spam."
   ]
  },
  {
   "cell_type": "markdown",
   "id": "ee24d366-bb1e-40b5-977d-f06a424c9e67",
   "metadata": {},
   "source": [
    "Ans: The code is:-"
   ]
  },
  {
   "cell_type": "code",
   "execution_count": 22,
   "id": "70e2fa3f-8c73-411e-be1b-2f87c50b2381",
   "metadata": {},
   "outputs": [
    {
     "name": "stdout",
     "output_type": "stream",
     "text": [
      "Greetings!\n"
     ]
    }
   ],
   "source": [
    "if spam == 1:\n",
    "    print('Hello')\n",
    "elif spam == 2:\n",
    "    print('Howdy')\n",
    "else:\n",
    "    print('Greetings!')"
   ]
  }
 ],
 "metadata": {
  "kernelspec": {
   "display_name": "Python 3 (ipykernel)",
   "language": "python",
   "name": "python3"
  },
  "language_info": {
   "codemirror_mode": {
    "name": "ipython",
    "version": 3
   },
   "file_extension": ".py",
   "mimetype": "text/x-python",
   "name": "python",
   "nbconvert_exporter": "python",
   "pygments_lexer": "ipython3",
   "version": "3.10.6"
  }
 },
 "nbformat": 4,
 "nbformat_minor": 5
}
